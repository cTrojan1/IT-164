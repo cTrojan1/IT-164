{
  "nbformat": 4,
  "nbformat_minor": 0,
  "metadata": {
    "colab": {
      "name": "CameronT_Weather",
      "provenance": [],
      "authorship_tag": "ABX9TyMdEcgudv3T+ptatzjLnvhJ",
      "include_colab_link": true
    },
    "kernelspec": {
      "name": "python3",
      "display_name": "Python 3"
    },
    "language_info": {
      "name": "python"
    }
  },
  "cells": [
    {
      "cell_type": "markdown",
      "metadata": {
        "id": "view-in-github",
        "colab_type": "text"
      },
      "source": [
        "<a href=\"https://colab.research.google.com/github/cTrojan1/IT-164/blob/main/CameronT_Weather.ipynb\" target=\"_parent\"><img src=\"https://colab.research.google.com/assets/colab-badge.svg\" alt=\"Open In Colab\"/></a>"
      ]
    },
    {
      "cell_type": "code",
      "source": [
        "!pip install pyowm"
      ],
      "metadata": {
        "id": "TfhFdhRCqCrt"
      },
      "execution_count": null,
      "outputs": []
    },
    {
      "cell_type": "code",
      "execution_count": 18,
      "metadata": {
        "id": "gEpmx0kwiNKC"
      },
      "outputs": [],
      "source": [
        "#importing is using libraries with capabilities that other people have created\n",
        "from pyowm.owm import OWM\n",
        "\n",
        "#I am defining the variable \"myKey\" here\n",
        "myKey = 'f2fe120911985b49d2ebff95cccddf37'\n",
        "\n",
        "#we create an instance of the API connection with our key (myKey)\n",
        "#we place it in a variable, named anything you like, but be consistent \n",
        "owm = OWM(myKey)\n",
        "wmg = owm.weather_manager()\n"
      ]
    },
    {
      "cell_type": "code",
      "source": [
        "#the variable is city, we get the variable from the user\n",
        "city = input('What city would you like to teleport to: ')\n",
        "country = input('What country is the city in: ')\n",
        "\n",
        "citycountry=city+ ', '+ country\n",
        "#connecting the strings for the city and country, placing a comma between\n",
        "\n",
        "observation=wmg.weather_at_place(citycountry)\n",
        "#getting the weather from specific observation\n",
        "weather = observation.weather\n",
        "\n",
        "#getting the temperature from the API\n",
        "temperature=weather.temperature('fahrenheit')\n",
        "print(temperature)\n",
        "\n",
        "#what is the variable here: feellike\n",
        "#where do we get the information from: Api, temperature.get\n",
        "feellike=temperature.get('feels_like')\n",
        "print(feellike)\n",
        "\n",
        "#conditions are TRUE and FALSE: condition = feellike\n",
        "if feellike < 30:\n",
        "  print('you need a winter jacket if you want to visit ', citycountry)\n",
        "elif feellike < 50:\n",
        "  print('you need a light jacket to visit ', citycountry)\n",
        "elif feellike < 70:\n",
        "  print('you may want to dress in layers if you visit ', citycountry)\n",
        "else:\n",
        "  print('you can wear a summer outfit in ', citycountry)"
      ],
      "metadata": {
        "colab": {
          "base_uri": "https://localhost:8080/"
        },
        "id": "BRLepXO0kG_F",
        "outputId": "2f040efc-a4c0-416c-a5d8-342b41dddecb"
      },
      "execution_count": 24,
      "outputs": [
        {
          "output_type": "stream",
          "name": "stdout",
          "text": [
            "What city would you like to teleport to: antarctica\n",
            "What country is the city in: \n",
            "{'temp': -69.18, 'temp_max': -69.18, 'temp_min': -69.18, 'feels_like': -81.78, 'temp_kf': None}\n",
            "-81.78\n",
            "you need a winter jacket if you want to visit  antarctica, \n"
          ]
        }
      ]
    }
  ]
}