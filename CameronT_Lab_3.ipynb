{
  "nbformat": 4,
  "nbformat_minor": 0,
  "metadata": {
    "colab": {
      "provenance": [],
      "authorship_tag": "ABX9TyOUrWyRHmvE70iygUvXdclm",
      "include_colab_link": true
    },
    "kernelspec": {
      "name": "python3",
      "display_name": "Python 3"
    },
    "language_info": {
      "name": "python"
    }
  },
  "cells": [
    {
      "cell_type": "markdown",
      "metadata": {
        "id": "view-in-github",
        "colab_type": "text"
      },
      "source": [
        "<a href=\"https://colab.research.google.com/github/cTrojan1/IT-164/blob/main/CameronT_Lab_3.ipynb\" target=\"_parent\"><img src=\"https://colab.research.google.com/assets/colab-badge.svg\" alt=\"Open In Colab\"/></a>"
      ]
    },
    {
      "cell_type": "code",
      "execution_count": null,
      "metadata": {
        "id": "VSCd7SQDQX4F"
      },
      "outputs": [],
      "source": [
        "width = float(input('Enter width of rectangle: '))\n",
        "length = float(input('Enter length of rectangle: '))\n",
        "perimiter = 2 * (width + length)\n",
        "area = width * length\n",
        "print('The perimiter of a rectangle that is', width , 'wide and', length, 'long is', perimiter, 'and the area is', area)"
      ]
    },
    {
      "cell_type": "code",
      "source": [
        "weight = float(input('Enter your weight in lbs: '))\n",
        "height = float(input('Enter your height in inches: '))\n",
        "bmi = weight / (height**2) * 703\n",
        "print('Your BMI with the weight', weight,'and the height', height,'is', bmi)"
      ],
      "metadata": {
        "id": "jMtf5c92Wkfb"
      },
      "execution_count": null,
      "outputs": []
    }
  ]
}